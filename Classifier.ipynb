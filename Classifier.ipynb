{
  "nbformat": 4,
  "nbformat_minor": 0,
  "metadata": {
    "colab": {
      "name": "Classifier.ipynb",
      "provenance": [],
      "collapsed_sections": []
    },
    "kernelspec": {
      "name": "python3",
      "display_name": "Python 3"
    }
  },
  "cells": [
    {
      "cell_type": "code",
      "metadata": {
        "id": "Bpvzf-wtxUYb",
        "colab_type": "code",
        "outputId": "637a494b-6c9f-4494-aeba-8a1abfd4df68",
        "colab": {
          "base_uri": "https://localhost:8080/",
          "height": 122
        }
      },
      "source": [
        "from google.colab import drive\n",
        "drive.mount('/content/drive')"
      ],
      "execution_count": 1,
      "outputs": [
        {
          "output_type": "stream",
          "text": [
            "Go to this URL in a browser: https://accounts.google.com/o/oauth2/auth?client_id=947318989803-6bn6qk8qdgf4n4g3pfee6491hc0brc4i.apps.googleusercontent.com&redirect_uri=urn%3aietf%3awg%3aoauth%3a2.0%3aoob&response_type=code&scope=email%20https%3a%2f%2fwww.googleapis.com%2fauth%2fdocs.test%20https%3a%2f%2fwww.googleapis.com%2fauth%2fdrive%20https%3a%2f%2fwww.googleapis.com%2fauth%2fdrive.photos.readonly%20https%3a%2f%2fwww.googleapis.com%2fauth%2fpeopleapi.readonly\n",
            "\n",
            "Enter your authorization code:\n",
            "··········\n",
            "Mounted at /content/drive\n"
          ],
          "name": "stdout"
        }
      ]
    },
    {
      "cell_type": "code",
      "metadata": {
        "id": "9a36JGuC08Xt",
        "colab_type": "code",
        "outputId": "ca9fac65-62f9-4d2b-b439-bcf75e8fc2f0",
        "colab": {
          "base_uri": "https://localhost:8080/",
          "height": 439
        }
      },
      "source": [
        "import pandas as pd\n",
        "df=pd.read_csv(\"/content/drive/My Drive/Flight_weather.csv\")\n",
        "df.dropna(how='any',inplace=True)\n",
        "df"
      ],
      "execution_count": 2,
      "outputs": [
        {
          "output_type": "execute_result",
          "data": {
            "text/html": [
              "<div>\n",
              "<style scoped>\n",
              "    .dataframe tbody tr th:only-of-type {\n",
              "        vertical-align: middle;\n",
              "    }\n",
              "\n",
              "    .dataframe tbody tr th {\n",
              "        vertical-align: top;\n",
              "    }\n",
              "\n",
              "    .dataframe thead th {\n",
              "        text-align: right;\n",
              "    }\n",
              "</style>\n",
              "<table border=\"1\" class=\"dataframe\">\n",
              "  <thead>\n",
              "    <tr style=\"text-align: right;\">\n",
              "      <th></th>\n",
              "      <th>Year</th>\n",
              "      <th>Quarter</th>\n",
              "      <th>Month</th>\n",
              "      <th>DayofMonth</th>\n",
              "      <th>FlightDate</th>\n",
              "      <th>DepTime</th>\n",
              "      <th>DepDel15</th>\n",
              "      <th>CRSDepTime</th>\n",
              "      <th>DepDelayMinutes</th>\n",
              "      <th>OriginAirportID</th>\n",
              "      <th>DestAirportID</th>\n",
              "      <th>ArrTime</th>\n",
              "      <th>CRSArrTime</th>\n",
              "      <th>ArrDel15</th>\n",
              "      <th>ArrDelayMinutes</th>\n",
              "      <th>windspeedKmph</th>\n",
              "      <th>DewPointF</th>\n",
              "      <th>cloudcover</th>\n",
              "      <th>precipMM</th>\n",
              "      <th>pressure</th>\n",
              "      <th>WindGustKmph</th>\n",
              "      <th>visibility</th>\n",
              "      <th>weatherCode</th>\n",
              "      <th>tempF</th>\n",
              "      <th>WindChillF</th>\n",
              "      <th>winddirDegree</th>\n",
              "      <th>humidity</th>\n",
              "      <th>airport</th>\n",
              "    </tr>\n",
              "  </thead>\n",
              "  <tbody>\n",
              "    <tr>\n",
              "      <th>0</th>\n",
              "      <td>2016</td>\n",
              "      <td>1</td>\n",
              "      <td>1</td>\n",
              "      <td>1</td>\n",
              "      <td>2016-01-01</td>\n",
              "      <td>741.0</td>\n",
              "      <td>0.0</td>\n",
              "      <td>745</td>\n",
              "      <td>0.0</td>\n",
              "      <td>14747</td>\n",
              "      <td>12478</td>\n",
              "      <td>1610.0</td>\n",
              "      <td>1602</td>\n",
              "      <td>0.0</td>\n",
              "      <td>8.0</td>\n",
              "      <td>7</td>\n",
              "      <td>23</td>\n",
              "      <td>0</td>\n",
              "      <td>0.0</td>\n",
              "      <td>1030</td>\n",
              "      <td>8</td>\n",
              "      <td>10</td>\n",
              "      <td>113</td>\n",
              "      <td>34</td>\n",
              "      <td>29</td>\n",
              "      <td>108</td>\n",
              "      <td>65</td>\n",
              "      <td>SEA</td>\n",
              "    </tr>\n",
              "    <tr>\n",
              "      <th>1</th>\n",
              "      <td>2016</td>\n",
              "      <td>1</td>\n",
              "      <td>1</td>\n",
              "      <td>1</td>\n",
              "      <td>2016-01-01</td>\n",
              "      <td>821.0</td>\n",
              "      <td>0.0</td>\n",
              "      <td>820</td>\n",
              "      <td>1.0</td>\n",
              "      <td>14747</td>\n",
              "      <td>14107</td>\n",
              "      <td>1237.0</td>\n",
              "      <td>1204</td>\n",
              "      <td>1.0</td>\n",
              "      <td>33.0</td>\n",
              "      <td>7</td>\n",
              "      <td>23</td>\n",
              "      <td>0</td>\n",
              "      <td>0.0</td>\n",
              "      <td>1030</td>\n",
              "      <td>8</td>\n",
              "      <td>10</td>\n",
              "      <td>113</td>\n",
              "      <td>34</td>\n",
              "      <td>29</td>\n",
              "      <td>108</td>\n",
              "      <td>65</td>\n",
              "      <td>SEA</td>\n",
              "    </tr>\n",
              "    <tr>\n",
              "      <th>2</th>\n",
              "      <td>2016</td>\n",
              "      <td>1</td>\n",
              "      <td>1</td>\n",
              "      <td>1</td>\n",
              "      <td>2016-01-01</td>\n",
              "      <td>759.0</td>\n",
              "      <td>1.0</td>\n",
              "      <td>724</td>\n",
              "      <td>35.0</td>\n",
              "      <td>14747</td>\n",
              "      <td>14771</td>\n",
              "      <td>1010.0</td>\n",
              "      <td>946</td>\n",
              "      <td>1.0</td>\n",
              "      <td>24.0</td>\n",
              "      <td>7</td>\n",
              "      <td>23</td>\n",
              "      <td>0</td>\n",
              "      <td>0.0</td>\n",
              "      <td>1030</td>\n",
              "      <td>8</td>\n",
              "      <td>10</td>\n",
              "      <td>113</td>\n",
              "      <td>34</td>\n",
              "      <td>29</td>\n",
              "      <td>108</td>\n",
              "      <td>65</td>\n",
              "      <td>SEA</td>\n",
              "    </tr>\n",
              "    <tr>\n",
              "      <th>3</th>\n",
              "      <td>2016</td>\n",
              "      <td>1</td>\n",
              "      <td>1</td>\n",
              "      <td>1</td>\n",
              "      <td>2016-01-01</td>\n",
              "      <td>754.0</td>\n",
              "      <td>0.0</td>\n",
              "      <td>759</td>\n",
              "      <td>0.0</td>\n",
              "      <td>14747</td>\n",
              "      <td>11292</td>\n",
              "      <td>1138.0</td>\n",
              "      <td>1143</td>\n",
              "      <td>0.0</td>\n",
              "      <td>0.0</td>\n",
              "      <td>7</td>\n",
              "      <td>23</td>\n",
              "      <td>0</td>\n",
              "      <td>0.0</td>\n",
              "      <td>1030</td>\n",
              "      <td>8</td>\n",
              "      <td>10</td>\n",
              "      <td>113</td>\n",
              "      <td>34</td>\n",
              "      <td>29</td>\n",
              "      <td>108</td>\n",
              "      <td>65</td>\n",
              "      <td>SEA</td>\n",
              "    </tr>\n",
              "    <tr>\n",
              "      <th>4</th>\n",
              "      <td>2016</td>\n",
              "      <td>1</td>\n",
              "      <td>1</td>\n",
              "      <td>1</td>\n",
              "      <td>2016-01-01</td>\n",
              "      <td>740.0</td>\n",
              "      <td>0.0</td>\n",
              "      <td>738</td>\n",
              "      <td>2.0</td>\n",
              "      <td>14747</td>\n",
              "      <td>12266</td>\n",
              "      <td>1401.0</td>\n",
              "      <td>1351</td>\n",
              "      <td>0.0</td>\n",
              "      <td>10.0</td>\n",
              "      <td>7</td>\n",
              "      <td>23</td>\n",
              "      <td>0</td>\n",
              "      <td>0.0</td>\n",
              "      <td>1030</td>\n",
              "      <td>8</td>\n",
              "      <td>10</td>\n",
              "      <td>113</td>\n",
              "      <td>34</td>\n",
              "      <td>29</td>\n",
              "      <td>108</td>\n",
              "      <td>65</td>\n",
              "      <td>SEA</td>\n",
              "    </tr>\n",
              "    <tr>\n",
              "      <th>...</th>\n",
              "      <td>...</td>\n",
              "      <td>...</td>\n",
              "      <td>...</td>\n",
              "      <td>...</td>\n",
              "      <td>...</td>\n",
              "      <td>...</td>\n",
              "      <td>...</td>\n",
              "      <td>...</td>\n",
              "      <td>...</td>\n",
              "      <td>...</td>\n",
              "      <td>...</td>\n",
              "      <td>...</td>\n",
              "      <td>...</td>\n",
              "      <td>...</td>\n",
              "      <td>...</td>\n",
              "      <td>...</td>\n",
              "      <td>...</td>\n",
              "      <td>...</td>\n",
              "      <td>...</td>\n",
              "      <td>...</td>\n",
              "      <td>...</td>\n",
              "      <td>...</td>\n",
              "      <td>...</td>\n",
              "      <td>...</td>\n",
              "      <td>...</td>\n",
              "      <td>...</td>\n",
              "      <td>...</td>\n",
              "      <td>...</td>\n",
              "    </tr>\n",
              "    <tr>\n",
              "      <th>1859971</th>\n",
              "      <td>2017</td>\n",
              "      <td>4</td>\n",
              "      <td>12</td>\n",
              "      <td>17</td>\n",
              "      <td>2017-12-17</td>\n",
              "      <td>2057.0</td>\n",
              "      <td>0.0</td>\n",
              "      <td>2100</td>\n",
              "      <td>0.0</td>\n",
              "      <td>11618</td>\n",
              "      <td>13303</td>\n",
              "      <td>1.0</td>\n",
              "      <td>8</td>\n",
              "      <td>0.0</td>\n",
              "      <td>0.0</td>\n",
              "      <td>14</td>\n",
              "      <td>28</td>\n",
              "      <td>100</td>\n",
              "      <td>0.0</td>\n",
              "      <td>1024</td>\n",
              "      <td>16</td>\n",
              "      <td>10</td>\n",
              "      <td>122</td>\n",
              "      <td>32</td>\n",
              "      <td>29</td>\n",
              "      <td>123</td>\n",
              "      <td>88</td>\n",
              "      <td>EWR</td>\n",
              "    </tr>\n",
              "    <tr>\n",
              "      <th>1859972</th>\n",
              "      <td>2017</td>\n",
              "      <td>4</td>\n",
              "      <td>12</td>\n",
              "      <td>17</td>\n",
              "      <td>2017-12-17</td>\n",
              "      <td>2312.0</td>\n",
              "      <td>0.0</td>\n",
              "      <td>2322</td>\n",
              "      <td>0.0</td>\n",
              "      <td>13930</td>\n",
              "      <td>14771</td>\n",
              "      <td>134.0</td>\n",
              "      <td>208</td>\n",
              "      <td>0.0</td>\n",
              "      <td>0.0</td>\n",
              "      <td>10</td>\n",
              "      <td>34</td>\n",
              "      <td>100</td>\n",
              "      <td>0.0</td>\n",
              "      <td>1016</td>\n",
              "      <td>12</td>\n",
              "      <td>6</td>\n",
              "      <td>122</td>\n",
              "      <td>37</td>\n",
              "      <td>34</td>\n",
              "      <td>219</td>\n",
              "      <td>90</td>\n",
              "      <td>ORD</td>\n",
              "    </tr>\n",
              "    <tr>\n",
              "      <th>1859973</th>\n",
              "      <td>2017</td>\n",
              "      <td>4</td>\n",
              "      <td>12</td>\n",
              "      <td>17</td>\n",
              "      <td>2017-12-17</td>\n",
              "      <td>2306.0</td>\n",
              "      <td>1.0</td>\n",
              "      <td>2120</td>\n",
              "      <td>106.0</td>\n",
              "      <td>13930</td>\n",
              "      <td>11618</td>\n",
              "      <td>144.0</td>\n",
              "      <td>25</td>\n",
              "      <td>1.0</td>\n",
              "      <td>79.0</td>\n",
              "      <td>10</td>\n",
              "      <td>34</td>\n",
              "      <td>100</td>\n",
              "      <td>0.0</td>\n",
              "      <td>1016</td>\n",
              "      <td>12</td>\n",
              "      <td>6</td>\n",
              "      <td>122</td>\n",
              "      <td>37</td>\n",
              "      <td>34</td>\n",
              "      <td>219</td>\n",
              "      <td>90</td>\n",
              "      <td>ORD</td>\n",
              "    </tr>\n",
              "    <tr>\n",
              "      <th>1859974</th>\n",
              "      <td>2017</td>\n",
              "      <td>4</td>\n",
              "      <td>12</td>\n",
              "      <td>17</td>\n",
              "      <td>2017-12-17</td>\n",
              "      <td>159.0</td>\n",
              "      <td>1.0</td>\n",
              "      <td>17</td>\n",
              "      <td>102.0</td>\n",
              "      <td>14747</td>\n",
              "      <td>12266</td>\n",
              "      <td>759.0</td>\n",
              "      <td>636</td>\n",
              "      <td>1.0</td>\n",
              "      <td>83.0</td>\n",
              "      <td>10</td>\n",
              "      <td>38</td>\n",
              "      <td>100</td>\n",
              "      <td>0.8</td>\n",
              "      <td>1023</td>\n",
              "      <td>13</td>\n",
              "      <td>10</td>\n",
              "      <td>122</td>\n",
              "      <td>41</td>\n",
              "      <td>35</td>\n",
              "      <td>177</td>\n",
              "      <td>89</td>\n",
              "      <td>SEA</td>\n",
              "    </tr>\n",
              "    <tr>\n",
              "      <th>1859975</th>\n",
              "      <td>2017</td>\n",
              "      <td>4</td>\n",
              "      <td>12</td>\n",
              "      <td>17</td>\n",
              "      <td>2017-12-17</td>\n",
              "      <td>1658.0</td>\n",
              "      <td>0.0</td>\n",
              "      <td>1700</td>\n",
              "      <td>0.0</td>\n",
              "      <td>12266</td>\n",
              "      <td>13204</td>\n",
              "      <td>2007.0</td>\n",
              "      <td>2016</td>\n",
              "      <td>0.0</td>\n",
              "      <td>0.0</td>\n",
              "      <td>5</td>\n",
              "      <td>53</td>\n",
              "      <td>97</td>\n",
              "      <td>0.0</td>\n",
              "      <td>1019</td>\n",
              "      <td>6</td>\n",
              "      <td>10</td>\n",
              "      <td>122</td>\n",
              "      <td>60</td>\n",
              "      <td>60</td>\n",
              "      <td>113</td>\n",
              "      <td>78</td>\n",
              "      <td>IAH</td>\n",
              "    </tr>\n",
              "  </tbody>\n",
              "</table>\n",
              "<p>1834170 rows × 28 columns</p>\n",
              "</div>"
            ],
            "text/plain": [
              "         Year  Quarter  Month  ...  winddirDegree humidity  airport\n",
              "0        2016        1      1  ...            108       65      SEA\n",
              "1        2016        1      1  ...            108       65      SEA\n",
              "2        2016        1      1  ...            108       65      SEA\n",
              "3        2016        1      1  ...            108       65      SEA\n",
              "4        2016        1      1  ...            108       65      SEA\n",
              "...       ...      ...    ...  ...            ...      ...      ...\n",
              "1859971  2017        4     12  ...            123       88      EWR\n",
              "1859972  2017        4     12  ...            219       90      ORD\n",
              "1859973  2017        4     12  ...            219       90      ORD\n",
              "1859974  2017        4     12  ...            177       89      SEA\n",
              "1859975  2017        4     12  ...            113       78      IAH\n",
              "\n",
              "[1834170 rows x 28 columns]"
            ]
          },
          "metadata": {
            "tags": []
          },
          "execution_count": 2
        }
      ]
    },
    {
      "cell_type": "code",
      "metadata": {
        "id": "fJAFLAjd1Lvn",
        "colab_type": "code",
        "outputId": "dcba0763-8c30-4433-f52b-c223f0eef838",
        "colab": {
          "base_uri": "https://localhost:8080/",
          "height": 439
        }
      },
      "source": [
        "import sklearn.preprocessing as preprocessing\n",
        "le=preprocessing.LabelEncoder()\n",
        "df[\"airport\"]=le.fit_transform(df[\"airport\"].astype(str))\n",
        "df[\"FlightDate\"]=le.fit_transform(df[\"FlightDate\"].astype(str))\n",
        "df"
      ],
      "execution_count": 3,
      "outputs": [
        {
          "output_type": "execute_result",
          "data": {
            "text/html": [
              "<div>\n",
              "<style scoped>\n",
              "    .dataframe tbody tr th:only-of-type {\n",
              "        vertical-align: middle;\n",
              "    }\n",
              "\n",
              "    .dataframe tbody tr th {\n",
              "        vertical-align: top;\n",
              "    }\n",
              "\n",
              "    .dataframe thead th {\n",
              "        text-align: right;\n",
              "    }\n",
              "</style>\n",
              "<table border=\"1\" class=\"dataframe\">\n",
              "  <thead>\n",
              "    <tr style=\"text-align: right;\">\n",
              "      <th></th>\n",
              "      <th>Year</th>\n",
              "      <th>Quarter</th>\n",
              "      <th>Month</th>\n",
              "      <th>DayofMonth</th>\n",
              "      <th>FlightDate</th>\n",
              "      <th>DepTime</th>\n",
              "      <th>DepDel15</th>\n",
              "      <th>CRSDepTime</th>\n",
              "      <th>DepDelayMinutes</th>\n",
              "      <th>OriginAirportID</th>\n",
              "      <th>DestAirportID</th>\n",
              "      <th>ArrTime</th>\n",
              "      <th>CRSArrTime</th>\n",
              "      <th>ArrDel15</th>\n",
              "      <th>ArrDelayMinutes</th>\n",
              "      <th>windspeedKmph</th>\n",
              "      <th>DewPointF</th>\n",
              "      <th>cloudcover</th>\n",
              "      <th>precipMM</th>\n",
              "      <th>pressure</th>\n",
              "      <th>WindGustKmph</th>\n",
              "      <th>visibility</th>\n",
              "      <th>weatherCode</th>\n",
              "      <th>tempF</th>\n",
              "      <th>WindChillF</th>\n",
              "      <th>winddirDegree</th>\n",
              "      <th>humidity</th>\n",
              "      <th>airport</th>\n",
              "    </tr>\n",
              "  </thead>\n",
              "  <tbody>\n",
              "    <tr>\n",
              "      <th>0</th>\n",
              "      <td>2016</td>\n",
              "      <td>1</td>\n",
              "      <td>1</td>\n",
              "      <td>1</td>\n",
              "      <td>0</td>\n",
              "      <td>741.0</td>\n",
              "      <td>0.0</td>\n",
              "      <td>745</td>\n",
              "      <td>0.0</td>\n",
              "      <td>14747</td>\n",
              "      <td>12478</td>\n",
              "      <td>1610.0</td>\n",
              "      <td>1602</td>\n",
              "      <td>0.0</td>\n",
              "      <td>8.0</td>\n",
              "      <td>7</td>\n",
              "      <td>23</td>\n",
              "      <td>0</td>\n",
              "      <td>0.0</td>\n",
              "      <td>1030</td>\n",
              "      <td>8</td>\n",
              "      <td>10</td>\n",
              "      <td>113</td>\n",
              "      <td>34</td>\n",
              "      <td>29</td>\n",
              "      <td>108</td>\n",
              "      <td>65</td>\n",
              "      <td>13</td>\n",
              "    </tr>\n",
              "    <tr>\n",
              "      <th>1</th>\n",
              "      <td>2016</td>\n",
              "      <td>1</td>\n",
              "      <td>1</td>\n",
              "      <td>1</td>\n",
              "      <td>0</td>\n",
              "      <td>821.0</td>\n",
              "      <td>0.0</td>\n",
              "      <td>820</td>\n",
              "      <td>1.0</td>\n",
              "      <td>14747</td>\n",
              "      <td>14107</td>\n",
              "      <td>1237.0</td>\n",
              "      <td>1204</td>\n",
              "      <td>1.0</td>\n",
              "      <td>33.0</td>\n",
              "      <td>7</td>\n",
              "      <td>23</td>\n",
              "      <td>0</td>\n",
              "      <td>0.0</td>\n",
              "      <td>1030</td>\n",
              "      <td>8</td>\n",
              "      <td>10</td>\n",
              "      <td>113</td>\n",
              "      <td>34</td>\n",
              "      <td>29</td>\n",
              "      <td>108</td>\n",
              "      <td>65</td>\n",
              "      <td>13</td>\n",
              "    </tr>\n",
              "    <tr>\n",
              "      <th>2</th>\n",
              "      <td>2016</td>\n",
              "      <td>1</td>\n",
              "      <td>1</td>\n",
              "      <td>1</td>\n",
              "      <td>0</td>\n",
              "      <td>759.0</td>\n",
              "      <td>1.0</td>\n",
              "      <td>724</td>\n",
              "      <td>35.0</td>\n",
              "      <td>14747</td>\n",
              "      <td>14771</td>\n",
              "      <td>1010.0</td>\n",
              "      <td>946</td>\n",
              "      <td>1.0</td>\n",
              "      <td>24.0</td>\n",
              "      <td>7</td>\n",
              "      <td>23</td>\n",
              "      <td>0</td>\n",
              "      <td>0.0</td>\n",
              "      <td>1030</td>\n",
              "      <td>8</td>\n",
              "      <td>10</td>\n",
              "      <td>113</td>\n",
              "      <td>34</td>\n",
              "      <td>29</td>\n",
              "      <td>108</td>\n",
              "      <td>65</td>\n",
              "      <td>13</td>\n",
              "    </tr>\n",
              "    <tr>\n",
              "      <th>3</th>\n",
              "      <td>2016</td>\n",
              "      <td>1</td>\n",
              "      <td>1</td>\n",
              "      <td>1</td>\n",
              "      <td>0</td>\n",
              "      <td>754.0</td>\n",
              "      <td>0.0</td>\n",
              "      <td>759</td>\n",
              "      <td>0.0</td>\n",
              "      <td>14747</td>\n",
              "      <td>11292</td>\n",
              "      <td>1138.0</td>\n",
              "      <td>1143</td>\n",
              "      <td>0.0</td>\n",
              "      <td>0.0</td>\n",
              "      <td>7</td>\n",
              "      <td>23</td>\n",
              "      <td>0</td>\n",
              "      <td>0.0</td>\n",
              "      <td>1030</td>\n",
              "      <td>8</td>\n",
              "      <td>10</td>\n",
              "      <td>113</td>\n",
              "      <td>34</td>\n",
              "      <td>29</td>\n",
              "      <td>108</td>\n",
              "      <td>65</td>\n",
              "      <td>13</td>\n",
              "    </tr>\n",
              "    <tr>\n",
              "      <th>4</th>\n",
              "      <td>2016</td>\n",
              "      <td>1</td>\n",
              "      <td>1</td>\n",
              "      <td>1</td>\n",
              "      <td>0</td>\n",
              "      <td>740.0</td>\n",
              "      <td>0.0</td>\n",
              "      <td>738</td>\n",
              "      <td>2.0</td>\n",
              "      <td>14747</td>\n",
              "      <td>12266</td>\n",
              "      <td>1401.0</td>\n",
              "      <td>1351</td>\n",
              "      <td>0.0</td>\n",
              "      <td>10.0</td>\n",
              "      <td>7</td>\n",
              "      <td>23</td>\n",
              "      <td>0</td>\n",
              "      <td>0.0</td>\n",
              "      <td>1030</td>\n",
              "      <td>8</td>\n",
              "      <td>10</td>\n",
              "      <td>113</td>\n",
              "      <td>34</td>\n",
              "      <td>29</td>\n",
              "      <td>108</td>\n",
              "      <td>65</td>\n",
              "      <td>13</td>\n",
              "    </tr>\n",
              "    <tr>\n",
              "      <th>...</th>\n",
              "      <td>...</td>\n",
              "      <td>...</td>\n",
              "      <td>...</td>\n",
              "      <td>...</td>\n",
              "      <td>...</td>\n",
              "      <td>...</td>\n",
              "      <td>...</td>\n",
              "      <td>...</td>\n",
              "      <td>...</td>\n",
              "      <td>...</td>\n",
              "      <td>...</td>\n",
              "      <td>...</td>\n",
              "      <td>...</td>\n",
              "      <td>...</td>\n",
              "      <td>...</td>\n",
              "      <td>...</td>\n",
              "      <td>...</td>\n",
              "      <td>...</td>\n",
              "      <td>...</td>\n",
              "      <td>...</td>\n",
              "      <td>...</td>\n",
              "      <td>...</td>\n",
              "      <td>...</td>\n",
              "      <td>...</td>\n",
              "      <td>...</td>\n",
              "      <td>...</td>\n",
              "      <td>...</td>\n",
              "      <td>...</td>\n",
              "    </tr>\n",
              "    <tr>\n",
              "      <th>1859971</th>\n",
              "      <td>2017</td>\n",
              "      <td>4</td>\n",
              "      <td>12</td>\n",
              "      <td>17</td>\n",
              "      <td>716</td>\n",
              "      <td>2057.0</td>\n",
              "      <td>0.0</td>\n",
              "      <td>2100</td>\n",
              "      <td>0.0</td>\n",
              "      <td>11618</td>\n",
              "      <td>13303</td>\n",
              "      <td>1.0</td>\n",
              "      <td>8</td>\n",
              "      <td>0.0</td>\n",
              "      <td>0.0</td>\n",
              "      <td>14</td>\n",
              "      <td>28</td>\n",
              "      <td>100</td>\n",
              "      <td>0.0</td>\n",
              "      <td>1024</td>\n",
              "      <td>16</td>\n",
              "      <td>10</td>\n",
              "      <td>122</td>\n",
              "      <td>32</td>\n",
              "      <td>29</td>\n",
              "      <td>123</td>\n",
              "      <td>88</td>\n",
              "      <td>4</td>\n",
              "    </tr>\n",
              "    <tr>\n",
              "      <th>1859972</th>\n",
              "      <td>2017</td>\n",
              "      <td>4</td>\n",
              "      <td>12</td>\n",
              "      <td>17</td>\n",
              "      <td>716</td>\n",
              "      <td>2312.0</td>\n",
              "      <td>0.0</td>\n",
              "      <td>2322</td>\n",
              "      <td>0.0</td>\n",
              "      <td>13930</td>\n",
              "      <td>14771</td>\n",
              "      <td>134.0</td>\n",
              "      <td>208</td>\n",
              "      <td>0.0</td>\n",
              "      <td>0.0</td>\n",
              "      <td>10</td>\n",
              "      <td>34</td>\n",
              "      <td>100</td>\n",
              "      <td>0.0</td>\n",
              "      <td>1016</td>\n",
              "      <td>12</td>\n",
              "      <td>6</td>\n",
              "      <td>122</td>\n",
              "      <td>37</td>\n",
              "      <td>34</td>\n",
              "      <td>219</td>\n",
              "      <td>90</td>\n",
              "      <td>11</td>\n",
              "    </tr>\n",
              "    <tr>\n",
              "      <th>1859973</th>\n",
              "      <td>2017</td>\n",
              "      <td>4</td>\n",
              "      <td>12</td>\n",
              "      <td>17</td>\n",
              "      <td>716</td>\n",
              "      <td>2306.0</td>\n",
              "      <td>1.0</td>\n",
              "      <td>2120</td>\n",
              "      <td>106.0</td>\n",
              "      <td>13930</td>\n",
              "      <td>11618</td>\n",
              "      <td>144.0</td>\n",
              "      <td>25</td>\n",
              "      <td>1.0</td>\n",
              "      <td>79.0</td>\n",
              "      <td>10</td>\n",
              "      <td>34</td>\n",
              "      <td>100</td>\n",
              "      <td>0.0</td>\n",
              "      <td>1016</td>\n",
              "      <td>12</td>\n",
              "      <td>6</td>\n",
              "      <td>122</td>\n",
              "      <td>37</td>\n",
              "      <td>34</td>\n",
              "      <td>219</td>\n",
              "      <td>90</td>\n",
              "      <td>11</td>\n",
              "    </tr>\n",
              "    <tr>\n",
              "      <th>1859974</th>\n",
              "      <td>2017</td>\n",
              "      <td>4</td>\n",
              "      <td>12</td>\n",
              "      <td>17</td>\n",
              "      <td>716</td>\n",
              "      <td>159.0</td>\n",
              "      <td>1.0</td>\n",
              "      <td>17</td>\n",
              "      <td>102.0</td>\n",
              "      <td>14747</td>\n",
              "      <td>12266</td>\n",
              "      <td>759.0</td>\n",
              "      <td>636</td>\n",
              "      <td>1.0</td>\n",
              "      <td>83.0</td>\n",
              "      <td>10</td>\n",
              "      <td>38</td>\n",
              "      <td>100</td>\n",
              "      <td>0.8</td>\n",
              "      <td>1023</td>\n",
              "      <td>13</td>\n",
              "      <td>10</td>\n",
              "      <td>122</td>\n",
              "      <td>41</td>\n",
              "      <td>35</td>\n",
              "      <td>177</td>\n",
              "      <td>89</td>\n",
              "      <td>13</td>\n",
              "    </tr>\n",
              "    <tr>\n",
              "      <th>1859975</th>\n",
              "      <td>2017</td>\n",
              "      <td>4</td>\n",
              "      <td>12</td>\n",
              "      <td>17</td>\n",
              "      <td>716</td>\n",
              "      <td>1658.0</td>\n",
              "      <td>0.0</td>\n",
              "      <td>1700</td>\n",
              "      <td>0.0</td>\n",
              "      <td>12266</td>\n",
              "      <td>13204</td>\n",
              "      <td>2007.0</td>\n",
              "      <td>2016</td>\n",
              "      <td>0.0</td>\n",
              "      <td>0.0</td>\n",
              "      <td>5</td>\n",
              "      <td>53</td>\n",
              "      <td>97</td>\n",
              "      <td>0.0</td>\n",
              "      <td>1019</td>\n",
              "      <td>6</td>\n",
              "      <td>10</td>\n",
              "      <td>122</td>\n",
              "      <td>60</td>\n",
              "      <td>60</td>\n",
              "      <td>113</td>\n",
              "      <td>78</td>\n",
              "      <td>5</td>\n",
              "    </tr>\n",
              "  </tbody>\n",
              "</table>\n",
              "<p>1834170 rows × 28 columns</p>\n",
              "</div>"
            ],
            "text/plain": [
              "         Year  Quarter  Month  ...  winddirDegree  humidity  airport\n",
              "0        2016        1      1  ...            108        65       13\n",
              "1        2016        1      1  ...            108        65       13\n",
              "2        2016        1      1  ...            108        65       13\n",
              "3        2016        1      1  ...            108        65       13\n",
              "4        2016        1      1  ...            108        65       13\n",
              "...       ...      ...    ...  ...            ...       ...      ...\n",
              "1859971  2017        4     12  ...            123        88        4\n",
              "1859972  2017        4     12  ...            219        90       11\n",
              "1859973  2017        4     12  ...            219        90       11\n",
              "1859974  2017        4     12  ...            177        89       13\n",
              "1859975  2017        4     12  ...            113        78        5\n",
              "\n",
              "[1834170 rows x 28 columns]"
            ]
          },
          "metadata": {
            "tags": []
          },
          "execution_count": 3
        }
      ]
    },
    {
      "cell_type": "code",
      "metadata": {
        "id": "3U1EPiWl3BY7",
        "colab_type": "code",
        "colab": {}
      },
      "source": [
        "X=df.drop([\"ArrDel15\",\"ArrDelayMinutes\",\"ArrTime\"],axis=1)\n",
        "y=df[\"ArrDel15\"]"
      ],
      "execution_count": 0,
      "outputs": []
    },
    {
      "cell_type": "code",
      "metadata": {
        "id": "NMFE2tXf4Y5a",
        "colab_type": "code",
        "colab": {}
      },
      "source": [
        "from sklearn.model_selection import train_test_split\n",
        "X_train,X_test,y_train,y_test=train_test_split(X,y,test_size=0.2,random_state=0)"
      ],
      "execution_count": 0,
      "outputs": []
    },
    {
      "cell_type": "code",
      "metadata": {
        "id": "u-qM44Kk4h0v",
        "colab_type": "code",
        "outputId": "c1d3dc4d-ff93-4f76-f6ea-6611fcd2c3a7",
        "colab": {
          "base_uri": "https://localhost:8080/",
          "height": 119
        }
      },
      "source": [
        "from sklearn.tree import DecisionTreeClassifier\n",
        "classifier=DecisionTreeClassifier()\n",
        "classifier"
      ],
      "execution_count": 32,
      "outputs": [
        {
          "output_type": "execute_result",
          "data": {
            "text/plain": [
              "DecisionTreeClassifier(ccp_alpha=0.0, class_weight=None, criterion='gini',\n",
              "                       max_depth=None, max_features=None, max_leaf_nodes=None,\n",
              "                       min_impurity_decrease=0.0, min_impurity_split=None,\n",
              "                       min_samples_leaf=1, min_samples_split=2,\n",
              "                       min_weight_fraction_leaf=0.0, presort='deprecated',\n",
              "                       random_state=None, splitter='best')"
            ]
          },
          "metadata": {
            "tags": []
          },
          "execution_count": 32
        }
      ]
    },
    {
      "cell_type": "code",
      "metadata": {
        "id": "-uMajN1d4sZL",
        "colab_type": "code",
        "outputId": "64757158-7cf1-4fbb-a91f-79226959b673",
        "colab": {
          "base_uri": "https://localhost:8080/",
          "height": 119
        }
      },
      "source": [
        "classifier.fit(X_train,y_train)"
      ],
      "execution_count": 33,
      "outputs": [
        {
          "output_type": "execute_result",
          "data": {
            "text/plain": [
              "DecisionTreeClassifier(ccp_alpha=0.0, class_weight=None, criterion='gini',\n",
              "                       max_depth=None, max_features=None, max_leaf_nodes=None,\n",
              "                       min_impurity_decrease=0.0, min_impurity_split=None,\n",
              "                       min_samples_leaf=1, min_samples_split=2,\n",
              "                       min_weight_fraction_leaf=0.0, presort='deprecated',\n",
              "                       random_state=None, splitter='best')"
            ]
          },
          "metadata": {
            "tags": []
          },
          "execution_count": 33
        }
      ]
    },
    {
      "cell_type": "code",
      "metadata": {
        "id": "OZmio0G5w70t",
        "colab_type": "code",
        "outputId": "1230207e-cc0e-427a-c5af-c1091596f9d8",
        "colab": {
          "base_uri": "https://localhost:8080/",
          "height": 34
        }
      },
      "source": [
        "y_pred=classifier.predict(X_test)\n",
        "y_pred"
      ],
      "execution_count": 34,
      "outputs": [
        {
          "output_type": "execute_result",
          "data": {
            "text/plain": [
              "array([0., 0., 0., ..., 0., 1., 1.])"
            ]
          },
          "metadata": {
            "tags": []
          },
          "execution_count": 34
        }
      ]
    },
    {
      "cell_type": "code",
      "metadata": {
        "id": "NnreF-LVylv7",
        "colab_type": "code",
        "outputId": "f913f779-09d0-413c-b755-2f82dc48c31b",
        "colab": {
          "base_uri": "https://localhost:8080/",
          "height": 187
        }
      },
      "source": [
        "from sklearn.metrics import classification_report\n",
        "print(\"predictions for decision trees\")\n",
        "print(classification_report(y_test,y_pred))"
      ],
      "execution_count": 35,
      "outputs": [
        {
          "output_type": "stream",
          "text": [
            "predictions for decision trees\n",
            "              precision    recall  f1-score   support\n",
            "\n",
            "         0.0       0.92      0.91      0.92    289814\n",
            "         1.0       0.68      0.71      0.69     77020\n",
            "\n",
            "    accuracy                           0.87    366834\n",
            "   macro avg       0.80      0.81      0.81    366834\n",
            "weighted avg       0.87      0.87      0.87    366834\n",
            "\n"
          ],
          "name": "stdout"
        }
      ]
    },
    {
      "cell_type": "code",
      "metadata": {
        "id": "xb4VplnQ27Lv",
        "colab_type": "code",
        "colab": {}
      },
      "source": [
        "from sklearn.linear_model import LogisticRegression\n",
        "logisticregr=LogisticRegression()"
      ],
      "execution_count": 0,
      "outputs": []
    },
    {
      "cell_type": "code",
      "metadata": {
        "id": "Ax_d3D6-3HTi",
        "colab_type": "code",
        "colab": {
          "base_uri": "https://localhost:8080/",
          "height": 323
        },
        "outputId": "4f598da1-b193-44a9-c6c0-1b34302bb00d"
      },
      "source": [
        "logisticregr.fit(X_train,y_train)\n",
        "y_pred_lg=logisticregr.predict(X_test)\n",
        "print(\"predictions for logistic regressor :\")\n",
        "print(classification_report(y_test,y_pred_lg))"
      ],
      "execution_count": 11,
      "outputs": [
        {
          "output_type": "stream",
          "text": [
            "/usr/local/lib/python3.6/dist-packages/sklearn/linear_model/_logistic.py:940: ConvergenceWarning: lbfgs failed to converge (status=1):\n",
            "STOP: TOTAL NO. of ITERATIONS REACHED LIMIT.\n",
            "\n",
            "Increase the number of iterations (max_iter) or scale the data as shown in:\n",
            "    https://scikit-learn.org/stable/modules/preprocessing.html\n",
            "Please also refer to the documentation for alternative solver options:\n",
            "    https://scikit-learn.org/stable/modules/linear_model.html#logistic-regression\n",
            "  extra_warning_msg=_LOGISTIC_SOLVER_CONVERGENCE_MSG)\n"
          ],
          "name": "stderr"
        },
        {
          "output_type": "stream",
          "text": [
            "predictions for logistic regressor :\n",
            "              precision    recall  f1-score   support\n",
            "\n",
            "         0.0       0.92      0.98      0.95    289814\n",
            "         1.0       0.89      0.67      0.76     77020\n",
            "\n",
            "    accuracy                           0.91    366834\n",
            "   macro avg       0.90      0.82      0.86    366834\n",
            "weighted avg       0.91      0.91      0.91    366834\n",
            "\n"
          ],
          "name": "stdout"
        }
      ]
    },
    {
      "cell_type": "code",
      "metadata": {
        "id": "qNQUiuD43EwS",
        "colab_type": "code",
        "colab": {}
      },
      "source": [
        "from sklearn.ensemble import ExtraTreesClassifier\n",
        "extra_tree_forest = ExtraTreesClassifier(criterion='entropy')"
      ],
      "execution_count": 0,
      "outputs": []
    },
    {
      "cell_type": "code",
      "metadata": {
        "id": "s12IHw0n51Ex",
        "colab_type": "code",
        "outputId": "25956a81-0eac-43d2-89d4-8a21b0795d04",
        "colab": {
          "base_uri": "https://localhost:8080/",
          "height": 153
        }
      },
      "source": [
        "extra_tree_forest.fit(X_train,y_train)"
      ],
      "execution_count": 13,
      "outputs": [
        {
          "output_type": "execute_result",
          "data": {
            "text/plain": [
              "ExtraTreesClassifier(bootstrap=False, ccp_alpha=0.0, class_weight=None,\n",
              "                     criterion='entropy', max_depth=None, max_features='auto',\n",
              "                     max_leaf_nodes=None, max_samples=None,\n",
              "                     min_impurity_decrease=0.0, min_impurity_split=None,\n",
              "                     min_samples_leaf=1, min_samples_split=2,\n",
              "                     min_weight_fraction_leaf=0.0, n_estimators=100,\n",
              "                     n_jobs=None, oob_score=False, random_state=None, verbose=0,\n",
              "                     warm_start=False)"
            ]
          },
          "metadata": {
            "tags": []
          },
          "execution_count": 13
        }
      ]
    },
    {
      "cell_type": "code",
      "metadata": {
        "id": "xhom5vxz58pv",
        "colab_type": "code",
        "colab": {}
      },
      "source": [
        "y_pred_extratrees=extra_tree_forest.predict(X_test)"
      ],
      "execution_count": 0,
      "outputs": []
    },
    {
      "cell_type": "code",
      "metadata": {
        "id": "SVdvWirt6H8G",
        "colab_type": "code",
        "outputId": "b9d8425d-9fcf-48d3-c5c8-dc5578de2dc1",
        "colab": {
          "base_uri": "https://localhost:8080/",
          "height": 187
        }
      },
      "source": [
        "print(\"predictions for extra tree classifier:\")\n",
        "print(classification_report(y_test,y_pred_extratrees))"
      ],
      "execution_count": 15,
      "outputs": [
        {
          "output_type": "stream",
          "text": [
            "predictions for extra tree classifier:\n",
            "              precision    recall  f1-score   support\n",
            "\n",
            "         0.0       0.93      0.96      0.94    289814\n",
            "         1.0       0.83      0.73      0.78     77020\n",
            "\n",
            "    accuracy                           0.91    366834\n",
            "   macro avg       0.88      0.85      0.86    366834\n",
            "weighted avg       0.91      0.91      0.91    366834\n",
            "\n"
          ],
          "name": "stdout"
        }
      ]
    },
    {
      "cell_type": "code",
      "metadata": {
        "id": "RUliI-Ju9tJs",
        "colab_type": "code",
        "colab": {}
      },
      "source": [
        "from sklearn.ensemble import RandomForestClassifier\n",
        "Rfclassifier=RandomForestClassifier()"
      ],
      "execution_count": 0,
      "outputs": []
    },
    {
      "cell_type": "markdown",
      "metadata": {
        "id": "YFqstTJw_hw_",
        "colab_type": "text"
      },
      "source": [
        ""
      ]
    },
    {
      "cell_type": "code",
      "metadata": {
        "id": "tUQHowBIG5Fv",
        "colab_type": "code",
        "outputId": "e1edfbc1-dcb0-4c3a-c036-8a78a0a52c5d",
        "colab": {
          "base_uri": "https://localhost:8080/",
          "height": 153
        }
      },
      "source": [
        "Rfclassifier.fit(X_train,y_train)"
      ],
      "execution_count": 19,
      "outputs": [
        {
          "output_type": "execute_result",
          "data": {
            "text/plain": [
              "RandomForestClassifier(bootstrap=True, ccp_alpha=0.0, class_weight=None,\n",
              "                       criterion='gini', max_depth=None, max_features='auto',\n",
              "                       max_leaf_nodes=None, max_samples=None,\n",
              "                       min_impurity_decrease=0.0, min_impurity_split=None,\n",
              "                       min_samples_leaf=1, min_samples_split=2,\n",
              "                       min_weight_fraction_leaf=0.0, n_estimators=100,\n",
              "                       n_jobs=None, oob_score=False, random_state=None,\n",
              "                       verbose=0, warm_start=False)"
            ]
          },
          "metadata": {
            "tags": []
          },
          "execution_count": 19
        }
      ]
    },
    {
      "cell_type": "code",
      "metadata": {
        "id": "ui1vhKBGG-Si",
        "colab_type": "code",
        "colab": {}
      },
      "source": [
        "ypred_rf=Rfclassifier.predict(X_test)"
      ],
      "execution_count": 0,
      "outputs": []
    },
    {
      "cell_type": "code",
      "metadata": {
        "id": "ssS1_ftwQIfI",
        "colab_type": "code",
        "outputId": "97e883ea-8968-4358-ee03-910ddc4af4c3",
        "colab": {
          "base_uri": "https://localhost:8080/",
          "height": 187
        }
      },
      "source": [
        "print(\"the predictions of random forest classifier:\")\n",
        "print(classification_report(y_test,ypred_rf))"
      ],
      "execution_count": 21,
      "outputs": [
        {
          "output_type": "stream",
          "text": [
            "the predictions of random forest classifier:\n",
            "              precision    recall  f1-score   support\n",
            "\n",
            "         0.0       0.92      0.98      0.95    289814\n",
            "         1.0       0.89      0.70      0.78     77020\n",
            "\n",
            "    accuracy                           0.92    366834\n",
            "   macro avg       0.90      0.84      0.86    366834\n",
            "weighted avg       0.92      0.92      0.91    366834\n",
            "\n"
          ],
          "name": "stdout"
        }
      ]
    },
    {
      "cell_type": "code",
      "metadata": {
        "id": "krTJ39uPLrUe",
        "colab_type": "code",
        "colab": {
          "base_uri": "https://localhost:8080/",
          "height": 105
        },
        "outputId": "eedaac47-3bcc-4c14-fe0b-6e44d73f499f"
      },
      "source": [
        "from imblearn.over_sampling import SMOTE"
      ],
      "execution_count": 22,
      "outputs": [
        {
          "output_type": "stream",
          "text": [
            "/usr/local/lib/python3.6/dist-packages/sklearn/externals/six.py:31: FutureWarning: The module is deprecated in version 0.21 and will be removed in version 0.23 since we've dropped support for Python 2.7. Please rely on the official version of six (https://pypi.org/project/six/).\n",
            "  \"(https://pypi.org/project/six/).\", FutureWarning)\n",
            "/usr/local/lib/python3.6/dist-packages/sklearn/utils/deprecation.py:144: FutureWarning: The sklearn.neighbors.base module is  deprecated in version 0.22 and will be removed in version 0.24. The corresponding classes / functions should instead be imported from sklearn.neighbors. Anything that cannot be imported from sklearn.neighbors is now part of the private API.\n",
            "  warnings.warn(message, FutureWarning)\n"
          ],
          "name": "stderr"
        }
      ]
    },
    {
      "cell_type": "code",
      "metadata": {
        "id": "5OpVBABgLxiS",
        "colab_type": "code",
        "colab": {
          "base_uri": "https://localhost:8080/",
          "height": 71
        },
        "outputId": "7e13cf5d-ac3e-4ffc-f9ec-f0698a4e759f"
      },
      "source": [
        "smote=SMOTE()\n",
        "X_sm,y_sm=smote.fit_resample(X_train,y_train)"
      ],
      "execution_count": 28,
      "outputs": [
        {
          "output_type": "stream",
          "text": [
            "/usr/local/lib/python3.6/dist-packages/sklearn/utils/deprecation.py:87: FutureWarning: Function safe_indexing is deprecated; safe_indexing is deprecated in version 0.22 and will be removed in version 0.24.\n",
            "  warnings.warn(msg, category=FutureWarning)\n"
          ],
          "name": "stderr"
        }
      ]
    },
    {
      "cell_type": "code",
      "metadata": {
        "id": "Vmp0isbDOTEd",
        "colab_type": "code",
        "colab": {
          "base_uri": "https://localhost:8080/",
          "height": 119
        },
        "outputId": "3e123a5e-5441-4bea-ddaa-4cb829505c9c"
      },
      "source": [
        "classifier.fit(X_sm,y_sm)"
      ],
      "execution_count": 29,
      "outputs": [
        {
          "output_type": "execute_result",
          "data": {
            "text/plain": [
              "DecisionTreeClassifier(ccp_alpha=0.0, class_weight=None, criterion='gini',\n",
              "                       max_depth=None, max_features=None, max_leaf_nodes=None,\n",
              "                       min_impurity_decrease=0.0, min_impurity_split=None,\n",
              "                       min_samples_leaf=1, min_samples_split=2,\n",
              "                       min_weight_fraction_leaf=0.0, presort='deprecated',\n",
              "                       random_state=None, splitter='best')"
            ]
          },
          "metadata": {
            "tags": []
          },
          "execution_count": 29
        }
      ]
    },
    {
      "cell_type": "code",
      "metadata": {
        "id": "Z3g6NERLPFkH",
        "colab_type": "code",
        "colab": {}
      },
      "source": [
        "y_pred=classifier.predict(X_test)"
      ],
      "execution_count": 0,
      "outputs": []
    },
    {
      "cell_type": "code",
      "metadata": {
        "id": "YzArVJ2vP5N9",
        "colab_type": "code",
        "colab": {
          "base_uri": "https://localhost:8080/",
          "height": 187
        },
        "outputId": "40db4115-993b-4631-8092-32be5c7cf16d"
      },
      "source": [
        "print(\"after sampling report for decision tree:\")\n",
        "print(classification_report(y_test,y_pred))"
      ],
      "execution_count": 31,
      "outputs": [
        {
          "output_type": "stream",
          "text": [
            "after sampling report for decision tree:\n",
            "              precision    recall  f1-score   support\n",
            "\n",
            "         0.0       0.92      0.91      0.91    289814\n",
            "         1.0       0.67      0.70      0.69     77020\n",
            "\n",
            "    accuracy                           0.87    366834\n",
            "   macro avg       0.80      0.81      0.80    366834\n",
            "weighted avg       0.87      0.87      0.87    366834\n",
            "\n"
          ],
          "name": "stdout"
        }
      ]
    },
    {
      "cell_type": "code",
      "metadata": {
        "id": "Yay9WNZdQEo-",
        "colab_type": "code",
        "colab": {
          "base_uri": "https://localhost:8080/",
          "height": 323
        },
        "outputId": "aa0a39f2-e5bb-434a-ad88-ec3438b01023"
      },
      "source": [
        "logisticregr.fit(X_sm,y_sm)\n",
        "y_pred_lg=logisticregr.predict(X_test)\n",
        "print(\"predictions for logistic regressor :\")\n",
        "print(classification_report(y_test,y_pred_lg))"
      ],
      "execution_count": 36,
      "outputs": [
        {
          "output_type": "stream",
          "text": [
            "/usr/local/lib/python3.6/dist-packages/sklearn/linear_model/_logistic.py:940: ConvergenceWarning: lbfgs failed to converge (status=1):\n",
            "STOP: TOTAL NO. of ITERATIONS REACHED LIMIT.\n",
            "\n",
            "Increase the number of iterations (max_iter) or scale the data as shown in:\n",
            "    https://scikit-learn.org/stable/modules/preprocessing.html\n",
            "Please also refer to the documentation for alternative solver options:\n",
            "    https://scikit-learn.org/stable/modules/linear_model.html#logistic-regression\n",
            "  extra_warning_msg=_LOGISTIC_SOLVER_CONVERGENCE_MSG)\n"
          ],
          "name": "stderr"
        },
        {
          "output_type": "stream",
          "text": [
            "predictions for logistic regressor :\n",
            "              precision    recall  f1-score   support\n",
            "\n",
            "         0.0       0.94      0.93      0.93    289814\n",
            "         1.0       0.74      0.78      0.76     77020\n",
            "\n",
            "    accuracy                           0.89    366834\n",
            "   macro avg       0.84      0.85      0.84    366834\n",
            "weighted avg       0.90      0.89      0.90    366834\n",
            "\n"
          ],
          "name": "stdout"
        }
      ]
    },
    {
      "cell_type": "code",
      "metadata": {
        "id": "akkZpj8LTBM7",
        "colab_type": "code",
        "colab": {
          "base_uri": "https://localhost:8080/",
          "height": 187
        },
        "outputId": "0c74ee9d-5e6e-474e-d4ab-4e077c65dd1b"
      },
      "source": [
        "extra_tree_forest.fit(X_sm,y_sm)\n",
        "y_pred_extratrees=extra_tree_forest.predict(X_test)\n",
        "print(\"predictions for extra tree classifier:\")\n",
        "print(classification_report(y_test,y_pred_extratrees))"
      ],
      "execution_count": 37,
      "outputs": [
        {
          "output_type": "stream",
          "text": [
            "predictions for extra tree classifier:\n",
            "              precision    recall  f1-score   support\n",
            "\n",
            "         0.0       0.94      0.95      0.94    289814\n",
            "         1.0       0.80      0.75      0.77     77020\n",
            "\n",
            "    accuracy                           0.91    366834\n",
            "   macro avg       0.87      0.85      0.86    366834\n",
            "weighted avg       0.91      0.91      0.91    366834\n",
            "\n"
          ],
          "name": "stdout"
        }
      ]
    },
    {
      "cell_type": "code",
      "metadata": {
        "id": "wmV0VeYjTl5y",
        "colab_type": "code",
        "colab": {
          "base_uri": "https://localhost:8080/",
          "height": 187
        },
        "outputId": "37b7a598-653a-41ef-9bd5-216680f52f94"
      },
      "source": [
        "Rfclassifier.fit(X_sm,y_sm)\n",
        "y_pred_rf=Rfclassifier.predict(X_test)\n",
        "print(\"predictions for Random forest classifier:\")\n",
        "print(classification_report(y_test,y_pred_rf))"
      ],
      "execution_count": 38,
      "outputs": [
        {
          "output_type": "stream",
          "text": [
            "predictions for Random forest classifier:\n",
            "              precision    recall  f1-score   support\n",
            "\n",
            "         0.0       0.93      0.97      0.95    289814\n",
            "         1.0       0.85      0.72      0.78     77020\n",
            "\n",
            "    accuracy                           0.91    366834\n",
            "   macro avg       0.89      0.84      0.86    366834\n",
            "weighted avg       0.91      0.91      0.91    366834\n",
            "\n"
          ],
          "name": "stdout"
        }
      ]
    },
    {
      "cell_type": "code",
      "metadata": {
        "id": "Xd4CB2RbXedl",
        "colab_type": "code",
        "colab": {
          "base_uri": "https://localhost:8080/",
          "height": 71
        },
        "outputId": "ca1f2c22-18b1-4271-b57c-f3bbcb474ea1"
      },
      "source": [
        "from imblearn.under_sampling import RandomUnderSampler\n",
        "rus=RandomUnderSampler()\n",
        "x_rus,y_rus=rus.fit_resample(X_train,y_train)"
      ],
      "execution_count": 39,
      "outputs": [
        {
          "output_type": "stream",
          "text": [
            "/usr/local/lib/python3.6/dist-packages/sklearn/utils/deprecation.py:87: FutureWarning: Function safe_indexing is deprecated; safe_indexing is deprecated in version 0.22 and will be removed in version 0.24.\n",
            "  warnings.warn(msg, category=FutureWarning)\n"
          ],
          "name": "stderr"
        }
      ]
    },
    {
      "cell_type": "code",
      "metadata": {
        "id": "Lp1HqOo5absY",
        "colab_type": "code",
        "colab": {
          "base_uri": "https://localhost:8080/",
          "height": 187
        },
        "outputId": "c34aceef-2ef2-4170-f1c8-1aeabdfa87b5"
      },
      "source": [
        "classifier.fit(x_rus,y_rus)\n",
        "y_pred=classifier.predict(X_test)\n",
        "print(\"after under sampling decision tree classifier:\")\n",
        "print(classification_report(y_test,y_pred))"
      ],
      "execution_count": 41,
      "outputs": [
        {
          "output_type": "stream",
          "text": [
            "after under sampling decision tree classifier:\n",
            "              precision    recall  f1-score   support\n",
            "\n",
            "         0.0       0.94      0.79      0.86    289814\n",
            "         1.0       0.51      0.80      0.62     77020\n",
            "\n",
            "    accuracy                           0.79    366834\n",
            "   macro avg       0.72      0.80      0.74    366834\n",
            "weighted avg       0.85      0.79      0.81    366834\n",
            "\n"
          ],
          "name": "stdout"
        }
      ]
    },
    {
      "cell_type": "code",
      "metadata": {
        "id": "TXnc69Ova5Lr",
        "colab_type": "code",
        "colab": {
          "base_uri": "https://localhost:8080/",
          "height": 323
        },
        "outputId": "2059c078-a4c7-410a-8531-4b699c7b79a0"
      },
      "source": [
        "logisticregr.fit(x_rus,y_rus)\n",
        "y_pred_lg=logisticregr.predict(X_test)\n",
        "print(\"predictions for logistic regressor :\")\n",
        "print(classification_report(y_test,y_pred_lg))"
      ],
      "execution_count": 42,
      "outputs": [
        {
          "output_type": "stream",
          "text": [
            "/usr/local/lib/python3.6/dist-packages/sklearn/linear_model/_logistic.py:940: ConvergenceWarning: lbfgs failed to converge (status=1):\n",
            "STOP: TOTAL NO. of ITERATIONS REACHED LIMIT.\n",
            "\n",
            "Increase the number of iterations (max_iter) or scale the data as shown in:\n",
            "    https://scikit-learn.org/stable/modules/preprocessing.html\n",
            "Please also refer to the documentation for alternative solver options:\n",
            "    https://scikit-learn.org/stable/modules/linear_model.html#logistic-regression\n",
            "  extra_warning_msg=_LOGISTIC_SOLVER_CONVERGENCE_MSG)\n"
          ],
          "name": "stderr"
        },
        {
          "output_type": "stream",
          "text": [
            "predictions for logistic regressor :\n",
            "              precision    recall  f1-score   support\n",
            "\n",
            "         0.0       0.94      0.93      0.93    289814\n",
            "         1.0       0.74      0.78      0.76     77020\n",
            "\n",
            "    accuracy                           0.90    366834\n",
            "   macro avg       0.84      0.85      0.85    366834\n",
            "weighted avg       0.90      0.90      0.90    366834\n",
            "\n"
          ],
          "name": "stdout"
        }
      ]
    },
    {
      "cell_type": "code",
      "metadata": {
        "id": "tzQUx9wObBIh",
        "colab_type": "code",
        "colab": {
          "base_uri": "https://localhost:8080/",
          "height": 187
        },
        "outputId": "a87b40dd-2cf2-4076-cea6-ce5856851cc6"
      },
      "source": [
        "extra_tree_forest.fit(x_rus,y_rus)\n",
        "y_pred_extratrees=extra_tree_forest.predict(X_test)\n",
        "print(\"predictions for extra tree classifier:\")\n",
        "print(classification_report(y_test,y_pred_extratrees))"
      ],
      "execution_count": 43,
      "outputs": [
        {
          "output_type": "stream",
          "text": [
            "predictions for extra tree classifier:\n",
            "              precision    recall  f1-score   support\n",
            "\n",
            "         0.0       0.95      0.89      0.92    289814\n",
            "         1.0       0.67      0.82      0.74     77020\n",
            "\n",
            "    accuracy                           0.88    366834\n",
            "   macro avg       0.81      0.86      0.83    366834\n",
            "weighted avg       0.89      0.88      0.88    366834\n",
            "\n"
          ],
          "name": "stdout"
        }
      ]
    },
    {
      "cell_type": "code",
      "metadata": {
        "id": "DRW3cocSbGT_",
        "colab_type": "code",
        "colab": {
          "base_uri": "https://localhost:8080/",
          "height": 187
        },
        "outputId": "96ec8dad-bdc6-478c-8fc0-1e924f97b326"
      },
      "source": [
        "Rfclassifier.fit(x_rus,y_rus)\n",
        "y_pred_rf=Rfclassifier.predict(X_test)\n",
        "print(\"predictions for Random forest classifier:\")\n",
        "print(classification_report(y_test,y_pred_rf))"
      ],
      "execution_count": 44,
      "outputs": [
        {
          "output_type": "stream",
          "text": [
            "predictions for Random forest classifier:\n",
            "              precision    recall  f1-score   support\n",
            "\n",
            "         0.0       0.95      0.91      0.93    289814\n",
            "         1.0       0.71      0.81      0.76     77020\n",
            "\n",
            "    accuracy                           0.89    366834\n",
            "   macro avg       0.83      0.86      0.84    366834\n",
            "weighted avg       0.90      0.89      0.89    366834\n",
            "\n"
          ],
          "name": "stdout"
        }
      ]
    }
  ]
}