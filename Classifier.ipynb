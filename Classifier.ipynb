{
  "nbformat": 4,
  "nbformat_minor": 0,
  "metadata": {
    "colab": {
      "name": "Classifier.ipynb",
      "provenance": [],
      "collapsed_sections": []
    },
    "kernelspec": {
      "name": "python3",
      "display_name": "Python 3"
    }
  },
  "cells": [
    {
      "cell_type": "code",
      "metadata": {
        "id": "Bpvzf-wtxUYb",
        "colab_type": "code",
        "outputId": "5c855847-19be-475c-8297-f0b165dde5d5",
        "colab": {
          "base_uri": "https://localhost:8080/",
          "height": 34
        }
      },
      "source": [
        "from google.colab import drive\n",
        "drive.mount('/content/drive')"
      ],
      "execution_count": 1,
      "outputs": [
        {
          "output_type": "stream",
          "text": [
            "Drive already mounted at /content/drive; to attempt to forcibly remount, call drive.mount(\"/content/drive\", force_remount=True).\n"
          ],
          "name": "stdout"
        }
      ]
    },
    {
      "cell_type": "code",
      "metadata": {
        "id": "9a36JGuC08Xt",
        "colab_type": "code",
        "colab": {}
      },
      "source": [
        "import pandas as pd\n",
        "df=pd.read_csv(\"/content/drive/My Drive/Flight_weather.csv\")\n",
        "df.dropna(how='any',inplace=True)\n",
        "df"
      ],
      "execution_count": 0,
      "outputs": []
    },
    {
      "cell_type": "code",
      "metadata": {
        "id": "fJAFLAjd1Lvn",
        "colab_type": "code",
        "outputId": "4e83a91a-3641-4d25-d3c2-aaa4501f7e08",
        "colab": {
          "base_uri": "https://localhost:8080/",
          "height": 439
        }
      },
      "source": [
        "import sklearn.preprocessing as preprocessing\n",
        "le=preprocessing.LabelEncoder()\n",
        "df[\"airport\"]=le.fit_transform(df[\"airport\"].astype(str))\n",
        "df[\"FlightDate\"]=le.fit_transform(df[\"FlightDate\"].astype(str))\n",
        "df"
      ],
      "execution_count": 13,
      "outputs": [
        {
          "output_type": "execute_result",
          "data": {
            "text/html": [
              "<div>\n",
              "<style scoped>\n",
              "    .dataframe tbody tr th:only-of-type {\n",
              "        vertical-align: middle;\n",
              "    }\n",
              "\n",
              "    .dataframe tbody tr th {\n",
              "        vertical-align: top;\n",
              "    }\n",
              "\n",
              "    .dataframe thead th {\n",
              "        text-align: right;\n",
              "    }\n",
              "</style>\n",
              "<table border=\"1\" class=\"dataframe\">\n",
              "  <thead>\n",
              "    <tr style=\"text-align: right;\">\n",
              "      <th></th>\n",
              "      <th>Year</th>\n",
              "      <th>Quarter</th>\n",
              "      <th>Month</th>\n",
              "      <th>DayofMonth</th>\n",
              "      <th>FlightDate</th>\n",
              "      <th>DepTime</th>\n",
              "      <th>DepDel15</th>\n",
              "      <th>CRSDepTime</th>\n",
              "      <th>DepDelayMinutes</th>\n",
              "      <th>OriginAirportID</th>\n",
              "      <th>DestAirportID</th>\n",
              "      <th>ArrTime</th>\n",
              "      <th>CRSArrTime</th>\n",
              "      <th>ArrDel15</th>\n",
              "      <th>ArrDelayMinutes</th>\n",
              "      <th>windspeedKmph</th>\n",
              "      <th>DewPointF</th>\n",
              "      <th>cloudcover</th>\n",
              "      <th>precipMM</th>\n",
              "      <th>pressure</th>\n",
              "      <th>WindGustKmph</th>\n",
              "      <th>visibility</th>\n",
              "      <th>weatherCode</th>\n",
              "      <th>tempF</th>\n",
              "      <th>WindChillF</th>\n",
              "      <th>winddirDegree</th>\n",
              "      <th>humidity</th>\n",
              "      <th>airport</th>\n",
              "    </tr>\n",
              "  </thead>\n",
              "  <tbody>\n",
              "    <tr>\n",
              "      <th>0</th>\n",
              "      <td>2016</td>\n",
              "      <td>1</td>\n",
              "      <td>1</td>\n",
              "      <td>1</td>\n",
              "      <td>0</td>\n",
              "      <td>741.0</td>\n",
              "      <td>0.0</td>\n",
              "      <td>745</td>\n",
              "      <td>0.0</td>\n",
              "      <td>14747</td>\n",
              "      <td>12478</td>\n",
              "      <td>1610.0</td>\n",
              "      <td>1602</td>\n",
              "      <td>0.0</td>\n",
              "      <td>8.0</td>\n",
              "      <td>7</td>\n",
              "      <td>23</td>\n",
              "      <td>0</td>\n",
              "      <td>0.0</td>\n",
              "      <td>1030</td>\n",
              "      <td>8</td>\n",
              "      <td>10</td>\n",
              "      <td>113</td>\n",
              "      <td>34</td>\n",
              "      <td>29</td>\n",
              "      <td>108</td>\n",
              "      <td>65</td>\n",
              "      <td>13</td>\n",
              "    </tr>\n",
              "    <tr>\n",
              "      <th>1</th>\n",
              "      <td>2016</td>\n",
              "      <td>1</td>\n",
              "      <td>1</td>\n",
              "      <td>1</td>\n",
              "      <td>0</td>\n",
              "      <td>821.0</td>\n",
              "      <td>0.0</td>\n",
              "      <td>820</td>\n",
              "      <td>1.0</td>\n",
              "      <td>14747</td>\n",
              "      <td>14107</td>\n",
              "      <td>1237.0</td>\n",
              "      <td>1204</td>\n",
              "      <td>1.0</td>\n",
              "      <td>33.0</td>\n",
              "      <td>7</td>\n",
              "      <td>23</td>\n",
              "      <td>0</td>\n",
              "      <td>0.0</td>\n",
              "      <td>1030</td>\n",
              "      <td>8</td>\n",
              "      <td>10</td>\n",
              "      <td>113</td>\n",
              "      <td>34</td>\n",
              "      <td>29</td>\n",
              "      <td>108</td>\n",
              "      <td>65</td>\n",
              "      <td>13</td>\n",
              "    </tr>\n",
              "    <tr>\n",
              "      <th>2</th>\n",
              "      <td>2016</td>\n",
              "      <td>1</td>\n",
              "      <td>1</td>\n",
              "      <td>1</td>\n",
              "      <td>0</td>\n",
              "      <td>759.0</td>\n",
              "      <td>1.0</td>\n",
              "      <td>724</td>\n",
              "      <td>35.0</td>\n",
              "      <td>14747</td>\n",
              "      <td>14771</td>\n",
              "      <td>1010.0</td>\n",
              "      <td>946</td>\n",
              "      <td>1.0</td>\n",
              "      <td>24.0</td>\n",
              "      <td>7</td>\n",
              "      <td>23</td>\n",
              "      <td>0</td>\n",
              "      <td>0.0</td>\n",
              "      <td>1030</td>\n",
              "      <td>8</td>\n",
              "      <td>10</td>\n",
              "      <td>113</td>\n",
              "      <td>34</td>\n",
              "      <td>29</td>\n",
              "      <td>108</td>\n",
              "      <td>65</td>\n",
              "      <td>13</td>\n",
              "    </tr>\n",
              "    <tr>\n",
              "      <th>3</th>\n",
              "      <td>2016</td>\n",
              "      <td>1</td>\n",
              "      <td>1</td>\n",
              "      <td>1</td>\n",
              "      <td>0</td>\n",
              "      <td>754.0</td>\n",
              "      <td>0.0</td>\n",
              "      <td>759</td>\n",
              "      <td>0.0</td>\n",
              "      <td>14747</td>\n",
              "      <td>11292</td>\n",
              "      <td>1138.0</td>\n",
              "      <td>1143</td>\n",
              "      <td>0.0</td>\n",
              "      <td>0.0</td>\n",
              "      <td>7</td>\n",
              "      <td>23</td>\n",
              "      <td>0</td>\n",
              "      <td>0.0</td>\n",
              "      <td>1030</td>\n",
              "      <td>8</td>\n",
              "      <td>10</td>\n",
              "      <td>113</td>\n",
              "      <td>34</td>\n",
              "      <td>29</td>\n",
              "      <td>108</td>\n",
              "      <td>65</td>\n",
              "      <td>13</td>\n",
              "    </tr>\n",
              "    <tr>\n",
              "      <th>4</th>\n",
              "      <td>2016</td>\n",
              "      <td>1</td>\n",
              "      <td>1</td>\n",
              "      <td>1</td>\n",
              "      <td>0</td>\n",
              "      <td>740.0</td>\n",
              "      <td>0.0</td>\n",
              "      <td>738</td>\n",
              "      <td>2.0</td>\n",
              "      <td>14747</td>\n",
              "      <td>12266</td>\n",
              "      <td>1401.0</td>\n",
              "      <td>1351</td>\n",
              "      <td>0.0</td>\n",
              "      <td>10.0</td>\n",
              "      <td>7</td>\n",
              "      <td>23</td>\n",
              "      <td>0</td>\n",
              "      <td>0.0</td>\n",
              "      <td>1030</td>\n",
              "      <td>8</td>\n",
              "      <td>10</td>\n",
              "      <td>113</td>\n",
              "      <td>34</td>\n",
              "      <td>29</td>\n",
              "      <td>108</td>\n",
              "      <td>65</td>\n",
              "      <td>13</td>\n",
              "    </tr>\n",
              "    <tr>\n",
              "      <th>...</th>\n",
              "      <td>...</td>\n",
              "      <td>...</td>\n",
              "      <td>...</td>\n",
              "      <td>...</td>\n",
              "      <td>...</td>\n",
              "      <td>...</td>\n",
              "      <td>...</td>\n",
              "      <td>...</td>\n",
              "      <td>...</td>\n",
              "      <td>...</td>\n",
              "      <td>...</td>\n",
              "      <td>...</td>\n",
              "      <td>...</td>\n",
              "      <td>...</td>\n",
              "      <td>...</td>\n",
              "      <td>...</td>\n",
              "      <td>...</td>\n",
              "      <td>...</td>\n",
              "      <td>...</td>\n",
              "      <td>...</td>\n",
              "      <td>...</td>\n",
              "      <td>...</td>\n",
              "      <td>...</td>\n",
              "      <td>...</td>\n",
              "      <td>...</td>\n",
              "      <td>...</td>\n",
              "      <td>...</td>\n",
              "      <td>...</td>\n",
              "    </tr>\n",
              "    <tr>\n",
              "      <th>1859971</th>\n",
              "      <td>2017</td>\n",
              "      <td>4</td>\n",
              "      <td>12</td>\n",
              "      <td>17</td>\n",
              "      <td>716</td>\n",
              "      <td>2057.0</td>\n",
              "      <td>0.0</td>\n",
              "      <td>2100</td>\n",
              "      <td>0.0</td>\n",
              "      <td>11618</td>\n",
              "      <td>13303</td>\n",
              "      <td>1.0</td>\n",
              "      <td>8</td>\n",
              "      <td>0.0</td>\n",
              "      <td>0.0</td>\n",
              "      <td>14</td>\n",
              "      <td>28</td>\n",
              "      <td>100</td>\n",
              "      <td>0.0</td>\n",
              "      <td>1024</td>\n",
              "      <td>16</td>\n",
              "      <td>10</td>\n",
              "      <td>122</td>\n",
              "      <td>32</td>\n",
              "      <td>29</td>\n",
              "      <td>123</td>\n",
              "      <td>88</td>\n",
              "      <td>4</td>\n",
              "    </tr>\n",
              "    <tr>\n",
              "      <th>1859972</th>\n",
              "      <td>2017</td>\n",
              "      <td>4</td>\n",
              "      <td>12</td>\n",
              "      <td>17</td>\n",
              "      <td>716</td>\n",
              "      <td>2312.0</td>\n",
              "      <td>0.0</td>\n",
              "      <td>2322</td>\n",
              "      <td>0.0</td>\n",
              "      <td>13930</td>\n",
              "      <td>14771</td>\n",
              "      <td>134.0</td>\n",
              "      <td>208</td>\n",
              "      <td>0.0</td>\n",
              "      <td>0.0</td>\n",
              "      <td>10</td>\n",
              "      <td>34</td>\n",
              "      <td>100</td>\n",
              "      <td>0.0</td>\n",
              "      <td>1016</td>\n",
              "      <td>12</td>\n",
              "      <td>6</td>\n",
              "      <td>122</td>\n",
              "      <td>37</td>\n",
              "      <td>34</td>\n",
              "      <td>219</td>\n",
              "      <td>90</td>\n",
              "      <td>11</td>\n",
              "    </tr>\n",
              "    <tr>\n",
              "      <th>1859973</th>\n",
              "      <td>2017</td>\n",
              "      <td>4</td>\n",
              "      <td>12</td>\n",
              "      <td>17</td>\n",
              "      <td>716</td>\n",
              "      <td>2306.0</td>\n",
              "      <td>1.0</td>\n",
              "      <td>2120</td>\n",
              "      <td>106.0</td>\n",
              "      <td>13930</td>\n",
              "      <td>11618</td>\n",
              "      <td>144.0</td>\n",
              "      <td>25</td>\n",
              "      <td>1.0</td>\n",
              "      <td>79.0</td>\n",
              "      <td>10</td>\n",
              "      <td>34</td>\n",
              "      <td>100</td>\n",
              "      <td>0.0</td>\n",
              "      <td>1016</td>\n",
              "      <td>12</td>\n",
              "      <td>6</td>\n",
              "      <td>122</td>\n",
              "      <td>37</td>\n",
              "      <td>34</td>\n",
              "      <td>219</td>\n",
              "      <td>90</td>\n",
              "      <td>11</td>\n",
              "    </tr>\n",
              "    <tr>\n",
              "      <th>1859974</th>\n",
              "      <td>2017</td>\n",
              "      <td>4</td>\n",
              "      <td>12</td>\n",
              "      <td>17</td>\n",
              "      <td>716</td>\n",
              "      <td>159.0</td>\n",
              "      <td>1.0</td>\n",
              "      <td>17</td>\n",
              "      <td>102.0</td>\n",
              "      <td>14747</td>\n",
              "      <td>12266</td>\n",
              "      <td>759.0</td>\n",
              "      <td>636</td>\n",
              "      <td>1.0</td>\n",
              "      <td>83.0</td>\n",
              "      <td>10</td>\n",
              "      <td>38</td>\n",
              "      <td>100</td>\n",
              "      <td>0.8</td>\n",
              "      <td>1023</td>\n",
              "      <td>13</td>\n",
              "      <td>10</td>\n",
              "      <td>122</td>\n",
              "      <td>41</td>\n",
              "      <td>35</td>\n",
              "      <td>177</td>\n",
              "      <td>89</td>\n",
              "      <td>13</td>\n",
              "    </tr>\n",
              "    <tr>\n",
              "      <th>1859975</th>\n",
              "      <td>2017</td>\n",
              "      <td>4</td>\n",
              "      <td>12</td>\n",
              "      <td>17</td>\n",
              "      <td>716</td>\n",
              "      <td>1658.0</td>\n",
              "      <td>0.0</td>\n",
              "      <td>1700</td>\n",
              "      <td>0.0</td>\n",
              "      <td>12266</td>\n",
              "      <td>13204</td>\n",
              "      <td>2007.0</td>\n",
              "      <td>2016</td>\n",
              "      <td>0.0</td>\n",
              "      <td>0.0</td>\n",
              "      <td>5</td>\n",
              "      <td>53</td>\n",
              "      <td>97</td>\n",
              "      <td>0.0</td>\n",
              "      <td>1019</td>\n",
              "      <td>6</td>\n",
              "      <td>10</td>\n",
              "      <td>122</td>\n",
              "      <td>60</td>\n",
              "      <td>60</td>\n",
              "      <td>113</td>\n",
              "      <td>78</td>\n",
              "      <td>5</td>\n",
              "    </tr>\n",
              "  </tbody>\n",
              "</table>\n",
              "<p>1834170 rows × 28 columns</p>\n",
              "</div>"
            ],
            "text/plain": [
              "         Year  Quarter  Month  ...  winddirDegree  humidity  airport\n",
              "0        2016        1      1  ...            108        65       13\n",
              "1        2016        1      1  ...            108        65       13\n",
              "2        2016        1      1  ...            108        65       13\n",
              "3        2016        1      1  ...            108        65       13\n",
              "4        2016        1      1  ...            108        65       13\n",
              "...       ...      ...    ...  ...            ...       ...      ...\n",
              "1859971  2017        4     12  ...            123        88        4\n",
              "1859972  2017        4     12  ...            219        90       11\n",
              "1859973  2017        4     12  ...            219        90       11\n",
              "1859974  2017        4     12  ...            177        89       13\n",
              "1859975  2017        4     12  ...            113        78        5\n",
              "\n",
              "[1834170 rows x 28 columns]"
            ]
          },
          "metadata": {
            "tags": []
          },
          "execution_count": 13
        }
      ]
    },
    {
      "cell_type": "code",
      "metadata": {
        "id": "3U1EPiWl3BY7",
        "colab_type": "code",
        "colab": {}
      },
      "source": [
        "X=df.drop([\"ArrDel15\",\"ArrDelayMinutes\",\"ArrTime\"],axis=1)\n",
        "y=df[\"ArrDel15\"]"
      ],
      "execution_count": 0,
      "outputs": []
    },
    {
      "cell_type": "code",
      "metadata": {
        "id": "NMFE2tXf4Y5a",
        "colab_type": "code",
        "colab": {}
      },
      "source": [
        "from sklearn.model_selection import train_test_split\n",
        "X_train,X_test,y_train,y_test=train_test_split(X,y,test_size=0.2,random_state=0)"
      ],
      "execution_count": 0,
      "outputs": []
    },
    {
      "cell_type": "code",
      "metadata": {
        "id": "u-qM44Kk4h0v",
        "colab_type": "code",
        "outputId": "c4d42f21-6a25-4894-859d-c3dbc4cda043",
        "colab": {
          "base_uri": "https://localhost:8080/",
          "height": 119
        }
      },
      "source": [
        "from sklearn.tree import DecisionTreeClassifier\n",
        "classifier=DecisionTreeClassifier()\n",
        "classifier"
      ],
      "execution_count": 16,
      "outputs": [
        {
          "output_type": "execute_result",
          "data": {
            "text/plain": [
              "DecisionTreeClassifier(ccp_alpha=0.0, class_weight=None, criterion='gini',\n",
              "                       max_depth=None, max_features=None, max_leaf_nodes=None,\n",
              "                       min_impurity_decrease=0.0, min_impurity_split=None,\n",
              "                       min_samples_leaf=1, min_samples_split=2,\n",
              "                       min_weight_fraction_leaf=0.0, presort='deprecated',\n",
              "                       random_state=None, splitter='best')"
            ]
          },
          "metadata": {
            "tags": []
          },
          "execution_count": 16
        }
      ]
    },
    {
      "cell_type": "code",
      "metadata": {
        "id": "-uMajN1d4sZL",
        "colab_type": "code",
        "outputId": "b82c8598-b573-47f7-e3ef-f62c86898ce5",
        "colab": {
          "base_uri": "https://localhost:8080/",
          "height": 119
        }
      },
      "source": [
        "classifier.fit(X_train,y_train)"
      ],
      "execution_count": 17,
      "outputs": [
        {
          "output_type": "execute_result",
          "data": {
            "text/plain": [
              "DecisionTreeClassifier(ccp_alpha=0.0, class_weight=None, criterion='gini',\n",
              "                       max_depth=None, max_features=None, max_leaf_nodes=None,\n",
              "                       min_impurity_decrease=0.0, min_impurity_split=None,\n",
              "                       min_samples_leaf=1, min_samples_split=2,\n",
              "                       min_weight_fraction_leaf=0.0, presort='deprecated',\n",
              "                       random_state=None, splitter='best')"
            ]
          },
          "metadata": {
            "tags": []
          },
          "execution_count": 17
        }
      ]
    },
    {
      "cell_type": "code",
      "metadata": {
        "id": "OZmio0G5w70t",
        "colab_type": "code",
        "outputId": "889728bd-587d-44ff-8221-8b6fbaca40f1",
        "colab": {
          "base_uri": "https://localhost:8080/",
          "height": 34
        }
      },
      "source": [
        "y_pred=classifier.predict(X_test)\n",
        "y_pred"
      ],
      "execution_count": 18,
      "outputs": [
        {
          "output_type": "execute_result",
          "data": {
            "text/plain": [
              "array([0., 0., 0., ..., 0., 1., 1.])"
            ]
          },
          "metadata": {
            "tags": []
          },
          "execution_count": 18
        }
      ]
    },
    {
      "cell_type": "code",
      "metadata": {
        "id": "NnreF-LVylv7",
        "colab_type": "code",
        "outputId": "f354cd06-2c06-4ed2-9fdb-8a91fbe7d6aa",
        "colab": {
          "base_uri": "https://localhost:8080/",
          "height": 187
        }
      },
      "source": [
        "from sklearn.metrics import classification_report\n",
        "print(\"predictions for decision trees\")\n",
        "print(classification_report(y_test,y_pred))"
      ],
      "execution_count": 19,
      "outputs": [
        {
          "output_type": "stream",
          "text": [
            "predictions for decision trees\n",
            "              precision    recall  f1-score   support\n",
            "\n",
            "         0.0       0.92      0.91      0.92    289814\n",
            "         1.0       0.68      0.71      0.69     77020\n",
            "\n",
            "    accuracy                           0.87    366834\n",
            "   macro avg       0.80      0.81      0.81    366834\n",
            "weighted avg       0.87      0.87      0.87    366834\n",
            "\n"
          ],
          "name": "stdout"
        }
      ]
    },
    {
      "cell_type": "code",
      "metadata": {
        "id": "qNQUiuD43EwS",
        "colab_type": "code",
        "colab": {}
      },
      "source": [
        "from sklearn.ensemble import ExtraTreesClassifier\n",
        "extra_tree_forest = ExtraTreesClassifier(criterion='entropy')"
      ],
      "execution_count": 0,
      "outputs": []
    },
    {
      "cell_type": "code",
      "metadata": {
        "id": "s12IHw0n51Ex",
        "colab_type": "code",
        "outputId": "0e132e7a-49cf-458f-bf14-a6e49f255f29",
        "colab": {
          "base_uri": "https://localhost:8080/",
          "height": 153
        }
      },
      "source": [
        "extra_tree_forest.fit(X_train,y_train)"
      ],
      "execution_count": 13,
      "outputs": [
        {
          "output_type": "execute_result",
          "data": {
            "text/plain": [
              "ExtraTreesClassifier(bootstrap=False, ccp_alpha=0.0, class_weight=None,\n",
              "                     criterion='entropy', max_depth=None, max_features='auto',\n",
              "                     max_leaf_nodes=None, max_samples=None,\n",
              "                     min_impurity_decrease=0.0, min_impurity_split=None,\n",
              "                     min_samples_leaf=1, min_samples_split=2,\n",
              "                     min_weight_fraction_leaf=0.0, n_estimators=100,\n",
              "                     n_jobs=None, oob_score=False, random_state=None, verbose=0,\n",
              "                     warm_start=False)"
            ]
          },
          "metadata": {
            "tags": []
          },
          "execution_count": 13
        }
      ]
    },
    {
      "cell_type": "code",
      "metadata": {
        "id": "xhom5vxz58pv",
        "colab_type": "code",
        "colab": {}
      },
      "source": [
        "y_pred_extratrees=extra_tree_forest.predict(X_test)"
      ],
      "execution_count": 0,
      "outputs": []
    },
    {
      "cell_type": "code",
      "metadata": {
        "id": "SVdvWirt6H8G",
        "colab_type": "code",
        "outputId": "14d7a284-66cb-4667-d2b9-06892cb1f4e5",
        "colab": {
          "base_uri": "https://localhost:8080/",
          "height": 187
        }
      },
      "source": [
        "print(\"predictions for extra tree classifier:\")\n",
        "print(classification_report(y_test,y_pred_extratrees))"
      ],
      "execution_count": 15,
      "outputs": [
        {
          "output_type": "stream",
          "text": [
            "predictions for extra tree classifier:\n",
            "              precision    recall  f1-score   support\n",
            "\n",
            "         0.0       0.93      0.96      0.94    289814\n",
            "         1.0       0.83      0.73      0.78     77020\n",
            "\n",
            "    accuracy                           0.91    366834\n",
            "   macro avg       0.88      0.85      0.86    366834\n",
            "weighted avg       0.91      0.91      0.91    366834\n",
            "\n"
          ],
          "name": "stdout"
        }
      ]
    },
    {
      "cell_type": "code",
      "metadata": {
        "id": "KaOLyYn66RHf",
        "colab_type": "code",
        "colab": {}
      },
      "source": [
        "from xgboost import XGBClassifier\n",
        "Xgbclassifier=XGBClassifier()"
      ],
      "execution_count": 0,
      "outputs": []
    },
    {
      "cell_type": "code",
      "metadata": {
        "id": "L1iSNHyD84i9",
        "colab_type": "code",
        "outputId": "b491baac-8867-4e62-a551-61cb190a36c6",
        "colab": {
          "base_uri": "https://localhost:8080/",
          "height": 136
        }
      },
      "source": [
        "Xgbclassifier.fit(X_train,y_train)"
      ],
      "execution_count": 17,
      "outputs": [
        {
          "output_type": "execute_result",
          "data": {
            "text/plain": [
              "XGBClassifier(base_score=0.5, booster='gbtree', colsample_bylevel=1,\n",
              "              colsample_bynode=1, colsample_bytree=1, gamma=0,\n",
              "              learning_rate=0.1, max_delta_step=0, max_depth=3,\n",
              "              min_child_weight=1, missing=None, n_estimators=100, n_jobs=1,\n",
              "              nthread=None, objective='binary:logistic', random_state=0,\n",
              "              reg_alpha=0, reg_lambda=1, scale_pos_weight=1, seed=None,\n",
              "              silent=None, subsample=1, verbosity=1)"
            ]
          },
          "metadata": {
            "tags": []
          },
          "execution_count": 17
        }
      ]
    },
    {
      "cell_type": "code",
      "metadata": {
        "id": "CtxK2iig8-GO",
        "colab_type": "code",
        "colab": {}
      },
      "source": [
        "y_pred_Xg=Xgbclassifier.predict(X_test)"
      ],
      "execution_count": 0,
      "outputs": []
    },
    {
      "cell_type": "code",
      "metadata": {
        "id": "oN30QxHf9jHq",
        "colab_type": "code",
        "outputId": "d278d80d-42c9-4fed-f2bb-ae12c38be8b6",
        "colab": {
          "base_uri": "https://localhost:8080/",
          "height": 187
        }
      },
      "source": [
        "print(\"predictions of Xgb classifier\")\n",
        "print(classification_report(y_test,y_pred_Xg))"
      ],
      "execution_count": 19,
      "outputs": [
        {
          "output_type": "stream",
          "text": [
            "predictions of Xgb classifier\n",
            "              precision    recall  f1-score   support\n",
            "\n",
            "         0.0       0.92      0.98      0.95    289814\n",
            "         1.0       0.90      0.68      0.77     77020\n",
            "\n",
            "    accuracy                           0.92    366834\n",
            "   macro avg       0.91      0.83      0.86    366834\n",
            "weighted avg       0.91      0.92      0.91    366834\n",
            "\n"
          ],
          "name": "stdout"
        }
      ]
    },
    {
      "cell_type": "code",
      "metadata": {
        "id": "RUliI-Ju9tJs",
        "colab_type": "code",
        "colab": {}
      },
      "source": [
        "from sklearn.ensemble import RandomForestClassifier\n",
        "Rfclassifier=RandomForestClassifier()"
      ],
      "execution_count": 0,
      "outputs": []
    },
    {
      "cell_type": "markdown",
      "metadata": {
        "id": "YFqstTJw_hw_",
        "colab_type": "text"
      },
      "source": [
        ""
      ]
    },
    {
      "cell_type": "code",
      "metadata": {
        "id": "tUQHowBIG5Fv",
        "colab_type": "code",
        "outputId": "1a8096ba-9f3b-4225-b139-1f4a05cce845",
        "colab": {
          "base_uri": "https://localhost:8080/",
          "height": 153
        }
      },
      "source": [
        "Rfclassifier.fit(X_train,y_train)"
      ],
      "execution_count": 21,
      "outputs": [
        {
          "output_type": "execute_result",
          "data": {
            "text/plain": [
              "RandomForestClassifier(bootstrap=True, ccp_alpha=0.0, class_weight=None,\n",
              "                       criterion='gini', max_depth=None, max_features='auto',\n",
              "                       max_leaf_nodes=None, max_samples=None,\n",
              "                       min_impurity_decrease=0.0, min_impurity_split=None,\n",
              "                       min_samples_leaf=1, min_samples_split=2,\n",
              "                       min_weight_fraction_leaf=0.0, n_estimators=100,\n",
              "                       n_jobs=None, oob_score=False, random_state=None,\n",
              "                       verbose=0, warm_start=False)"
            ]
          },
          "metadata": {
            "tags": []
          },
          "execution_count": 21
        }
      ]
    },
    {
      "cell_type": "code",
      "metadata": {
        "id": "ui1vhKBGG-Si",
        "colab_type": "code",
        "colab": {}
      },
      "source": [
        "ypred_rf=Rfclassifier.predict(X_test)"
      ],
      "execution_count": 0,
      "outputs": []
    },
    {
      "cell_type": "code",
      "metadata": {
        "id": "ssS1_ftwQIfI",
        "colab_type": "code",
        "outputId": "e6e6d62e-8227-414e-e1ce-cff117c37621",
        "colab": {
          "base_uri": "https://localhost:8080/",
          "height": 187
        }
      },
      "source": [
        "print(\"the predictions of random forest classifier:\")\n",
        "print(classification_report(y_test,ypred_rf))"
      ],
      "execution_count": 24,
      "outputs": [
        {
          "output_type": "stream",
          "text": [
            "the predictions of random forest classifier:\n",
            "              precision    recall  f1-score   support\n",
            "\n",
            "         0.0       0.92      0.98      0.95    289814\n",
            "         1.0       0.89      0.70      0.78     77020\n",
            "\n",
            "    accuracy                           0.92    366834\n",
            "   macro avg       0.90      0.84      0.86    366834\n",
            "weighted avg       0.92      0.92      0.91    366834\n",
            "\n"
          ],
          "name": "stdout"
        }
      ]
    },
    {
      "cell_type": "code",
      "metadata": {
        "id": "-qWkf4oxQdgh",
        "colab_type": "code",
        "colab": {}
      },
      "source": [
        "from sklearn.pipeline import make_pipeline\n",
        "from imblearn.pipeline import make_pipeline as make_pipeline_imb\n",
        "from imblearn.over_sampling import SMOTE\n",
        "smote_pipeline=make_pipeline_imb(SMOTE(random_state=4),RandomForestClassifier())\n",
        "smote_model=smote_pipeline.fit(X_train,y_train)\n",
        "smote_prediction=smote_model.predict(X_test)"
      ],
      "execution_count": 0,
      "outputs": []
    },
    {
      "cell_type": "code",
      "metadata": {
        "id": "oBq1ol1DnqrG",
        "colab_type": "code",
        "outputId": "b34def84-4d3c-473a-efb0-3ac372da59bc",
        "colab": {
          "base_uri": "https://localhost:8080/",
          "height": 190
        }
      },
      "source": [
        "from imblearn.metrics import classification_report_imbalanced\n",
        "print(classification_report_imbalanced(y_test,smote_prediction))"
      ],
      "execution_count": 0,
      "outputs": [
        {
          "output_type": "stream",
          "text": [
            "/usr/local/lib/python3.6/dist-packages/sklearn/utils/deprecation.py:144: FutureWarning: The sklearn.metrics.classification module is  deprecated in version 0.22 and will be removed in version 0.24. The corresponding classes / functions should instead be imported from sklearn.metrics. Anything that cannot be imported from sklearn.metrics is now part of the private API.\n",
            "  warnings.warn(message, FutureWarning)\n"
          ],
          "name": "stderr"
        },
        {
          "output_type": "stream",
          "text": [
            "                   pre       rec       spe        f1       geo       iba       sup\n",
            "\n",
            "        0.0       0.93      0.97      0.72      0.95      0.84      0.71    289814\n",
            "        1.0       0.85      0.72      0.97      0.78      0.84      0.68     77020\n",
            "\n",
            "avg / total       0.91      0.92      0.77      0.91      0.84      0.71    366834\n",
            "\n"
          ],
          "name": "stdout"
        }
      ]
    },
    {
      "cell_type": "code",
      "metadata": {
        "id": "ZBfEdnFe9bbW",
        "colab_type": "code",
        "outputId": "8f239624-43ad-4eca-c534-6045278b5250",
        "colab": {
          "base_uri": "https://localhost:8080/",
          "height": 190
        }
      },
      "source": [
        "smote_pipeline_decisionTree=make_pipeline_imb(SMOTE(random_state=4),DecisionTreeClassifier(random_state=0))\n",
        "smote_model_decisionTree=smote_pipeline_decisionTree.fit(X_train,y_train)\n",
        "smote_prediction_decisionTree=smote_model_decisionTree.predict(X_test)\n",
        "print(classification_report_imbalanced(y_test,smote_prediction_decisionTree))"
      ],
      "execution_count": 25,
      "outputs": [
        {
          "output_type": "stream",
          "text": [
            "/usr/local/lib/python3.6/dist-packages/sklearn/utils/deprecation.py:87: FutureWarning: Function safe_indexing is deprecated; safe_indexing is deprecated in version 0.22 and will be removed in version 0.24.\n",
            "  warnings.warn(msg, category=FutureWarning)\n"
          ],
          "name": "stderr"
        },
        {
          "output_type": "stream",
          "text": [
            "                   pre       rec       spe        f1       geo       iba       sup\n",
            "\n",
            "        0.0       0.92      0.91      0.70      0.91      0.80      0.65    289814\n",
            "        1.0       0.67      0.70      0.91      0.69      0.80      0.62     77020\n",
            "\n",
            "avg / total       0.87      0.87      0.75      0.87      0.80      0.65    366834\n",
            "\n"
          ],
          "name": "stdout"
        }
      ]
    },
    {
      "cell_type": "code",
      "metadata": {
        "id": "9cA5eNJrDVxF",
        "colab_type": "code",
        "colab": {
          "base_uri": "https://localhost:8080/",
          "height": 190
        },
        "outputId": "e8d5cba6-4e35-4e72-e150-db7d41a3195c"
      },
      "source": [
        "smote_pipeline_extratrees=make_pipeline_imb(SMOTE(random_state=4),ExtraTreesClassifier(random_state=0))\n",
        "smote_model_extratrees=smote_pipeline_extratrees.fit(X_train,y_train)\n",
        "smote_prediction_extratrees=smote_model_extratrees.predict(X_test)\n",
        "print(classification_report_imbalanced(y_test,smote_prediction_extratrees))"
      ],
      "execution_count": 26,
      "outputs": [
        {
          "output_type": "stream",
          "text": [
            "/usr/local/lib/python3.6/dist-packages/sklearn/utils/deprecation.py:87: FutureWarning: Function safe_indexing is deprecated; safe_indexing is deprecated in version 0.22 and will be removed in version 0.24.\n",
            "  warnings.warn(msg, category=FutureWarning)\n"
          ],
          "name": "stderr"
        },
        {
          "output_type": "stream",
          "text": [
            "                   pre       rec       spe        f1       geo       iba       sup\n",
            "\n",
            "        0.0       0.94      0.95      0.75      0.94      0.85      0.73    289814\n",
            "        1.0       0.79      0.75      0.95      0.77      0.85      0.70     77020\n",
            "\n",
            "avg / total       0.91      0.91      0.79      0.91      0.85      0.72    366834\n",
            "\n"
          ],
          "name": "stdout"
        }
      ]
    },
    {
      "cell_type": "code",
      "metadata": {
        "id": "0TxBt7IHHPu5",
        "colab_type": "code",
        "colab": {
          "base_uri": "https://localhost:8080/",
          "height": 71
        },
        "outputId": "fbbd0d3f-27b3-4fec-e6b2-62e424a7db76"
      },
      "source": [
        "smote_pipeline_xgb=make_pipeline_imb(SMOTE(random_state=4),XGBClassifier(random_state=0))\n",
        "smote_model_xgb=smote_pipeline_xgb.fit(X_train,y_train)\n",
        "smote_prediction_xgb=smote_model_xgb.predict(X_test)\n",
        "print(classification_report_imbalanced(y_test,smote_prediction_xgb))"
      ],
      "execution_count": 0,
      "outputs": [
        {
          "output_type": "stream",
          "text": [
            "/usr/local/lib/python3.6/dist-packages/sklearn/utils/deprecation.py:87: FutureWarning: Function safe_indexing is deprecated; safe_indexing is deprecated in version 0.22 and will be removed in version 0.24.\n",
            "  warnings.warn(msg, category=FutureWarning)\n"
          ],
          "name": "stderr"
        }
      ]
    }
  ]
}